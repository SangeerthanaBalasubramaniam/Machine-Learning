{
  "nbformat": 4,
  "nbformat_minor": 0,
  "metadata": {
    "kernelspec": {
      "display_name": "Python 3",
      "language": "python",
      "name": "python3"
    },
    "language_info": {
      "codemirror_mode": {
        "name": "ipython",
        "version": 3
      },
      "file_extension": ".py",
      "mimetype": "text/x-python",
      "name": "python",
      "nbconvert_exporter": "python",
      "pygments_lexer": "ipython3",
      "version": "3.5.2"
    },
    "colab": {
      "name": "4.1_EX1_Basic Statistical Measures.ipynb",
      "provenance": [],
      "collapsed_sections": [],
      "include_colab_link": true
    }
  },
  "cells": [
    {
      "cell_type": "markdown",
      "metadata": {
        "id": "view-in-github",
        "colab_type": "text"
      },
      "source": [
        "<a href=\"https://colab.research.google.com/github/SangeerthanaBalasubramaniam/Machine-Learning/blob/main/4_1_EX1_Basic_Statistical_Measures.ipynb\" target=\"_parent\"><img src=\"https://colab.research.google.com/assets/colab-badge.svg\" alt=\"Open In Colab\"/></a>"
      ]
    },
    {
      "cell_type": "markdown",
      "metadata": {
        "id": "uUDH0eN6Dmch"
      },
      "source": [
        "# **19CSE305:MACHINE LEARNING LAB 4**\n",
        "\n",
        "## Exploratory Data Analysis\n",
        "\n",
        "## CB.EN.U4CSE19144"
      ]
    },
    {
      "cell_type": "markdown",
      "metadata": {
        "id": "xD_-oDT4DkkJ"
      },
      "source": [
        "# Mean"
      ]
    },
    {
      "cell_type": "code",
      "metadata": {
        "id": "7U0O7q3yDkkO"
      },
      "source": [
        "import numpy as np\n",
        "import pandas as pd"
      ],
      "execution_count": null,
      "outputs": []
    },
    {
      "cell_type": "code",
      "metadata": {
        "id": "FcCJltyRDkkQ"
      },
      "source": [
        "sample_list = [1, 2, 2, 2, 4, 5, 6, 6, 6, 9, 10, 10, 10, 11, 14, 14, 15, 18, 19, 20]"
      ],
      "execution_count": null,
      "outputs": []
    },
    {
      "cell_type": "code",
      "metadata": {
        "id": "SEWWtnuaDkkQ"
      },
      "source": [
        "def cal_mean(data):\n",
        "    return sum(data)/(len(data)*1.0)"
      ],
      "execution_count": null,
      "outputs": []
    },
    {
      "cell_type": "code",
      "metadata": {
        "colab": {
          "base_uri": "https://localhost:8080/"
        },
        "id": "LwMRWLN-DkkT",
        "outputId": "e9bf592a-7a45-43a7-aef6-0ce8d05586d1"
      },
      "source": [
        "cal_mean(sample_list)"
      ],
      "execution_count": null,
      "outputs": [
        {
          "output_type": "execute_result",
          "data": {
            "text/plain": [
              "9.2"
            ]
          },
          "metadata": {
            "tags": []
          },
          "execution_count": 7
        }
      ]
    },
    {
      "cell_type": "markdown",
      "metadata": {
        "id": "0WBpsVc7FRsk"
      },
      "source": [
        "asarray() makes a copy of list or tuple or list of tuple to an array."
      ]
    },
    {
      "cell_type": "code",
      "metadata": {
        "id": "3YEb7uO9DkkV"
      },
      "source": [
        "my_np_list = np.asarray(sample_list)"
      ],
      "execution_count": null,
      "outputs": []
    },
    {
      "cell_type": "code",
      "metadata": {
        "colab": {
          "base_uri": "https://localhost:8080/"
        },
        "id": "VtF6pooRDkkV",
        "outputId": "c62b808b-794e-42c1-f493-cecfdd7915ae"
      },
      "source": [
        "np.mean(my_np_list)"
      ],
      "execution_count": null,
      "outputs": [
        {
          "output_type": "execute_result",
          "data": {
            "text/plain": [
              "9.2"
            ]
          },
          "metadata": {
            "tags": []
          },
          "execution_count": 6
        }
      ]
    },
    {
      "cell_type": "markdown",
      "metadata": {
        "id": "D3MLFzE0DkkW"
      },
      "source": [
        "### How mean is affected by extreme points"
      ]
    },
    {
      "cell_type": "code",
      "metadata": {
        "colab": {
          "base_uri": "https://localhost:8080/"
        },
        "id": "0ilYqrT3DkkX",
        "outputId": "7ba40cff-f2ef-4b4f-e6e8-0d886635f5ef"
      },
      "source": [
        "sample_list.append(100)\n",
        "print(\"New List:\",sample_list)"
      ],
      "execution_count": null,
      "outputs": [
        {
          "output_type": "stream",
          "text": [
            "New List: [1, 2, 2, 2, 4, 5, 6, 6, 6, 9, 10, 10, 10, 11, 14, 14, 15, 18, 19, 20, 100]\n"
          ],
          "name": "stdout"
        }
      ]
    },
    {
      "cell_type": "code",
      "metadata": {
        "colab": {
          "base_uri": "https://localhost:8080/"
        },
        "id": "fuBEo_EqDkkX",
        "outputId": "958a9312-6702-47ce-839f-001f20a79ec5"
      },
      "source": [
        "cal_mean(sample_list)"
      ],
      "execution_count": null,
      "outputs": [
        {
          "output_type": "execute_result",
          "data": {
            "text/plain": [
              "13.523809523809524"
            ]
          },
          "metadata": {
            "tags": []
          },
          "execution_count": 14
        }
      ]
    },
    {
      "cell_type": "markdown",
      "metadata": {
        "id": "cQtsFIymEHnR"
      },
      "source": [
        "Inference:\n",
        "\n",
        "Mean will be affected by all the values present in dataset since it is ratio of sum of all items to total number of items. Thus, extreme points plays a major role in deciding mean which is evident from the above results."
      ]
    },
    {
      "cell_type": "markdown",
      "metadata": {
        "id": "ehHLnouLDkkY"
      },
      "source": [
        "# Median"
      ]
    },
    {
      "cell_type": "code",
      "metadata": {
        "colab": {
          "base_uri": "https://localhost:8080/"
        },
        "id": "ux5GWAq5DkkY",
        "outputId": "6766974d-fe1d-4f71-ac5e-fb3bc092bfd0"
      },
      "source": [
        "np.median(sample_list)"
      ],
      "execution_count": null,
      "outputs": [
        {
          "output_type": "execute_result",
          "data": {
            "text/plain": [
              "9.5"
            ]
          },
          "metadata": {
            "tags": []
          },
          "execution_count": 15
        }
      ]
    },
    {
      "cell_type": "code",
      "metadata": {
        "colab": {
          "base_uri": "https://localhost:8080/"
        },
        "id": "2zR6kEGRDkkZ",
        "outputId": "a2d5c1ba-908c-49e6-be74-4f3174ab5a24"
      },
      "source": [
        "sample_list"
      ],
      "execution_count": null,
      "outputs": [
        {
          "output_type": "execute_result",
          "data": {
            "text/plain": [
              "[1, 2, 2, 2, 4, 5, 6, 6, 6, 9, 10, 10, 10, 11, 14, 14, 15, 18, 19, 20]"
            ]
          },
          "metadata": {
            "tags": []
          },
          "execution_count": 12
        }
      ]
    },
    {
      "cell_type": "code",
      "metadata": {
        "colab": {
          "base_uri": "https://localhost:8080/"
        },
        "id": "Jexs6ueADkka",
        "outputId": "e7bcc144-4a6d-4518-aeed-d0e9d5afd15d"
      },
      "source": [
        "np.median(my_np_list)"
      ],
      "execution_count": null,
      "outputs": [
        {
          "output_type": "execute_result",
          "data": {
            "text/plain": [
              "9.5"
            ]
          },
          "metadata": {
            "tags": []
          },
          "execution_count": 13
        }
      ]
    },
    {
      "cell_type": "code",
      "metadata": {
        "colab": {
          "base_uri": "https://localhost:8080/"
        },
        "id": "L7f0BjglDkka",
        "outputId": "ed83ef5d-7f39-4a93-9255-ea6eacf09b0f"
      },
      "source": [
        "my_np_list"
      ],
      "execution_count": null,
      "outputs": [
        {
          "output_type": "execute_result",
          "data": {
            "text/plain": [
              "array([ 1,  2,  2,  2,  4,  5,  6,  6,  6,  9, 10, 10, 10, 11, 14, 14, 15,\n",
              "       18, 19, 20])"
            ]
          },
          "metadata": {
            "tags": []
          },
          "execution_count": 14
        }
      ]
    },
    {
      "cell_type": "markdown",
      "metadata": {
        "id": "QU9XPgQFDkkb"
      },
      "source": [
        "# Mode"
      ]
    },
    {
      "cell_type": "code",
      "metadata": {
        "id": "bRycSbTEDkkc"
      },
      "source": [
        "from scipy.stats import mode"
      ],
      "execution_count": null,
      "outputs": []
    },
    {
      "cell_type": "markdown",
      "metadata": {
        "id": "4kdrxty8Fma_"
      },
      "source": [
        "mode() returns the value with maximum number of occurence, in case if there are multiple values with maximum occurence, smallest number with maximum number of occurence will be returned."
      ]
    },
    {
      "cell_type": "code",
      "metadata": {
        "colab": {
          "base_uri": "https://localhost:8080/"
        },
        "id": "CJcpTI_xDkkc",
        "outputId": "85b583ca-cca7-4900-a3a2-ba3ee3140e6b"
      },
      "source": [
        "mode(sample_list)"
      ],
      "execution_count": null,
      "outputs": [
        {
          "output_type": "execute_result",
          "data": {
            "text/plain": [
              "ModeResult(mode=array([2]), count=array([3]))"
            ]
          },
          "metadata": {
            "tags": []
          },
          "execution_count": 10
        }
      ]
    },
    {
      "cell_type": "markdown",
      "metadata": {
        "id": "h-yIsY6aDkkc"
      },
      "source": [
        "## Can be used over non-numeric data"
      ]
    },
    {
      "cell_type": "code",
      "metadata": {
        "id": "M-OUZ9RdDkkd"
      },
      "source": [
        "my_list_str = ['a', 'b', 'c', 'a', 'b', 'b', 'c', 'a', 'a', 'b', 'd']"
      ],
      "execution_count": null,
      "outputs": []
    },
    {
      "cell_type": "code",
      "metadata": {
        "colab": {
          "base_uri": "https://localhost:8080/"
        },
        "id": "7q4HoHYuDkkd",
        "outputId": "3d64e293-a132-43b4-dbb2-9b148d724ab9"
      },
      "source": [
        "mode(my_list_str)"
      ],
      "execution_count": null,
      "outputs": [
        {
          "output_type": "execute_result",
          "data": {
            "text/plain": [
              "ModeResult(mode=array(['a'], dtype='<U1'), count=array([4]))"
            ]
          },
          "metadata": {
            "tags": []
          },
          "execution_count": 17
        }
      ]
    },
    {
      "cell_type": "markdown",
      "metadata": {
        "id": "hB4-Dmr_E6Mu"
      },
      "source": [
        "## Variannce and Standard Deviation"
      ]
    },
    {
      "cell_type": "code",
      "metadata": {
        "id": "17TZcnMRDkke"
      },
      "source": [
        "data=np.array([1, 2, 2, 2, 4, 5, 6, 6, 6, 9, 10, 10, 10, 11, 14, 14, 15, 18, 19, 20])"
      ],
      "execution_count": null,
      "outputs": []
    },
    {
      "cell_type": "markdown",
      "metadata": {
        "id": "qkAmyA4hFffk"
      },
      "source": [
        "**Create the data using np.asarray. Differntiate between np.array and np.asarray**"
      ]
    },
    {
      "cell_type": "code",
      "metadata": {
        "colab": {
          "base_uri": "https://localhost:8080/"
        },
        "id": "OI82RpzJFKYU",
        "outputId": "e0c74ff8-4529-4463-fb1d-7c0fc4008249"
      },
      "source": [
        "np.var(data)"
      ],
      "execution_count": null,
      "outputs": [
        {
          "output_type": "execute_result",
          "data": {
            "text/plain": [
              "33.66"
            ]
          },
          "metadata": {
            "tags": []
          },
          "execution_count": 19
        }
      ]
    },
    {
      "cell_type": "code",
      "metadata": {
        "colab": {
          "base_uri": "https://localhost:8080/"
        },
        "id": "32ix4fnEFOK5",
        "outputId": "887fb6cc-25aa-42af-ff18-655ac4d48409"
      },
      "source": [
        "np.std(data)"
      ],
      "execution_count": null,
      "outputs": [
        {
          "output_type": "execute_result",
          "data": {
            "text/plain": [
              "5.801723881744114"
            ]
          },
          "metadata": {
            "tags": []
          },
          "execution_count": 20
        }
      ]
    },
    {
      "cell_type": "markdown",
      "metadata": {
        "id": "66BHCKj7GJnT"
      },
      "source": [
        "##  Visualizing Statistical Measures"
      ]
    },
    {
      "cell_type": "code",
      "metadata": {
        "id": "MGrXdEuDFzyF"
      },
      "source": [
        "import seaborn as sns\n",
        "import matplotlib.pyplot as plt"
      ],
      "execution_count": null,
      "outputs": []
    },
    {
      "cell_type": "markdown",
      "metadata": {
        "id": "A0rcGeDkGOwM"
      },
      "source": [
        "random.normal() takes three parameters namely loc which is mean, scale which is standard deviation and size is shape of returned array.\n"
      ]
    },
    {
      "cell_type": "code",
      "metadata": {
        "colab": {
          "base_uri": "https://localhost:8080/"
        },
        "id": "FmvlhDg1GT7I",
        "outputId": "5398f8b8-1407-4f7a-b9be-9a60ead50798"
      },
      "source": [
        "#Create random array of normal distribution\n",
        "x=np.random.normal(50,5,3000)\n",
        "print(x)\n",
        "print(x.shape)"
      ],
      "execution_count": null,
      "outputs": [
        {
          "output_type": "stream",
          "text": [
            "[51.8939194  50.98927082 50.34129212 ... 48.15986784 46.47449932\n",
            " 55.79485038]\n",
            "(3000,)\n"
          ],
          "name": "stdout"
        }
      ]
    },
    {
      "cell_type": "markdown",
      "metadata": {
        "id": "wVXSDzs0H8KU"
      },
      "source": [
        "## **Excercise 1**\n",
        "\n",
        "Find the maximum and minimum and calculate Max-**Min**"
      ]
    },
    {
      "cell_type": "markdown",
      "metadata": {
        "id": "qY4X0exEHBoF"
      },
      "source": [
        "Maximum and Minimum is calculated using max() and min() function."
      ]
    },
    {
      "cell_type": "code",
      "metadata": {
        "colab": {
          "base_uri": "https://localhost:8080/"
        },
        "id": "DSUAOt2kGmSy",
        "outputId": "7934d46c-ce63-455c-d6e7-1fca0e6a6ebc"
      },
      "source": [
        "print(\"Max is:\",max(x))\n",
        "print(\"Min is:\",min(x))\n",
        "print(\"Max-Min is:\",max(x)-min(x))\n",
        "#Find the minimum\n",
        "#calculate MAx-Min"
      ],
      "execution_count": null,
      "outputs": [
        {
          "output_type": "stream",
          "text": [
            "Max is: 70.79418704589813\n",
            "Min is: 34.72997649027821\n",
            "Max-Min is: 36.064210555619916\n"
          ],
          "name": "stdout"
        }
      ]
    },
    {
      "cell_type": "markdown",
      "metadata": {
        "id": "TDRM73NMHN7f"
      },
      "source": [
        "### Frequency Histogram\n"
      ]
    },
    {
      "cell_type": "code",
      "metadata": {
        "colab": {
          "base_uri": "https://localhost:8080/",
          "height": 296
        },
        "id": "8gL-hd2WG0BY",
        "outputId": "3f27272a-37f3-4954-cadd-c3a8d2061c3b"
      },
      "source": [
        "#using Matplot lib\n",
        "plt.hist(x)\n",
        "plt.xlabel('Intervals')\n",
        "plt.ylabel('Frequency')"
      ],
      "execution_count": null,
      "outputs": [
        {
          "output_type": "execute_result",
          "data": {
            "text/plain": [
              "Text(0, 0.5, 'Frequency')"
            ]
          },
          "metadata": {
            "tags": []
          },
          "execution_count": 26
        },
        {
          "output_type": "display_data",
          "data": {
            "image/png": "[encoded data removed]",
            "text/plain": [
              "<Figure size 432x288 with 1 Axes>"
            ]
          },
          "metadata": {
            "tags": [],
            "needs_background": "light"
          }
        }
      ]
    },
    {
      "cell_type": "markdown",
      "metadata": {
        "id": "9iQvXlTfISLg"
      },
      "source": [
        "## **Excercise 2**\n",
        "\n",
        "Plot the frequency histogram using Seaborn. For Seaborn documentation click[ here](https://seaborn.pydata.org/tutorial/distributions.html).\n",
        "\n",
        "\n",
        "\n",
        "*  Plot the histogram with bin size 5\n",
        "*  Plot the histogram with bin size 10\n",
        "*  Plot the histogram with bin size 15\n",
        "*  Plot the histogram with bin size 50\n",
        "*  Plot the histogram with bin size 30\n",
        "\n",
        "Write down your inferences\n",
        "\n",
        "\n",
        "\n"
      ]
    },
    {
      "cell_type": "markdown",
      "metadata": {
        "id": "b6jmTDxqJsVY"
      },
      "source": [
        "## Density Plot\n",
        "\n",
        "KDE(Kernal Density Estimation):A histogram aims to approximate the underlying probability density function that generated the data by binning and counting observations. Kernel density estimation (KDE) presents a different solution to the same problem. Rather than using discrete bins, a KDE plot smooths the observations with a Gaussian kernel, producing a continuous density estimate:"
      ]
    },
    {
      "cell_type": "code",
      "metadata": {
        "colab": {
          "base_uri": "https://localhost:8080/",
          "height": 386
        },
        "id": "_Vw-1S_3HgLS",
        "outputId": "f27b8581-2c62-4c92-ae78-333c6a4b4ff0"
      },
      "source": [
        "sns.displot(x,  kind=\"kde\")"
      ],
      "execution_count": null,
      "outputs": [
        {
          "output_type": "execute_result",
          "data": {
            "text/plain": [
              "<seaborn.axisgrid.FacetGrid at 0x7f93d769bf90>"
            ]
          },
          "metadata": {
            "tags": []
          },
          "execution_count": 28
        },
        {
          "output_type": "display_data",
          "data": {
            "image/png": "[encoded data removed]",
            "text/plain": [
              "<Figure size 360x360 with 1 Axes>"
            ]
          },
          "metadata": {
            "tags": [],
            "needs_background": "light"
          }
        }
      ]
    },
    {
      "cell_type": "code",
      "metadata": {
        "colab": {
          "base_uri": "https://localhost:8080/",
          "height": 386
        },
        "id": "fHsbOZ71HR7M",
        "outputId": "c4e3f562-e229-4c7b-be46-910be7a3f7df"
      },
      "source": [
        "sns.displot(x,  kde='True',bins=5)\n",
        "plt.ylabel('Density')"
      ],
      "execution_count": null,
      "outputs": [
        {
          "output_type": "execute_result",
          "data": {
            "text/plain": [
              "Text(-2.575000000000003, 0.5, 'Density')"
            ]
          },
          "metadata": {
            "tags": []
          },
          "execution_count": 55
        },
        {
          "output_type": "display_data",
          "data": {
            "image/png": "[encoded data removed]",
            "text/plain": [
              "<Figure size 360x360 with 1 Axes>"
            ]
          },
          "metadata": {
            "tags": [],
            "needs_background": "light"
          }
        }
      ]
    },
    {
      "cell_type": "code",
      "metadata": {
        "colab": {
          "base_uri": "https://localhost:8080/",
          "height": 386
        },
        "id": "uxff1A0EKE28",
        "outputId": "4a54c29a-ec5d-4883-c657-4cd7d0abbef0"
      },
      "source": [
        "sns.displot(x,  kde='True',bins=10)\n",
        "plt.ylabel('Density')"
      ],
      "execution_count": null,
      "outputs": [
        {
          "output_type": "execute_result",
          "data": {
            "text/plain": [
              "Text(3.799999999999997, 0.5, 'Density')"
            ]
          },
          "metadata": {
            "tags": []
          },
          "execution_count": 48
        },
        {
          "output_type": "display_data",
          "data": {
            "image/png": "[encoded data removed]",
            "text/plain": [
              "<Figure size 360x360 with 1 Axes>"
            ]
          },
          "metadata": {
            "tags": [],
            "needs_background": "light"
          }
        }
      ]
    },
    {
      "cell_type": "code",
      "metadata": {
        "colab": {
          "base_uri": "https://localhost:8080/",
          "height": 386
        },
        "id": "bNzUkI6dHYqG",
        "outputId": "8b42815c-9a9d-4f3d-e089-581b0b624822"
      },
      "source": [
        "sns.displot(x,  kde='True',bins=15)\n",
        "plt.ylabel('Density')"
      ],
      "execution_count": null,
      "outputs": [
        {
          "output_type": "execute_result",
          "data": {
            "text/plain": [
              "Text(3.799999999999997, 0.5, 'Density')"
            ]
          },
          "metadata": {
            "tags": []
          },
          "execution_count": 49
        },
        {
          "output_type": "display_data",
          "data": {
            "image/png": "[encoded data removed]",
            "text/plain": [
              "<Figure size 360x360 with 1 Axes>"
            ]
          },
          "metadata": {
            "tags": [],
            "needs_background": "light"
          }
        }
      ]
    },
    {
      "cell_type": "code",
      "metadata": {
        "colab": {
          "base_uri": "https://localhost:8080/",
          "height": 386
        },
        "id": "24ZaZEyaHc08",
        "outputId": "8fb9f45b-da03-4138-dafe-97b4b9e15a2b"
      },
      "source": [
        "sns.displot(x,  kde='True',bins=30)\n",
        "plt.ylabel('Density')"
      ],
      "execution_count": null,
      "outputs": [
        {
          "output_type": "execute_result",
          "data": {
            "text/plain": [
              "Text(3.674999999999997, 0.5, 'Density')"
            ]
          },
          "metadata": {
            "tags": []
          },
          "execution_count": 50
        },
        {
          "output_type": "display_data",
          "data": {
            "image/png": "[encoded data removed]",
            "text/plain": [
              "<Figure size 360x360 with 1 Axes>"
            ]
          },
          "metadata": {
            "tags": [],
            "needs_background": "light"
          }
        }
      ]
    },
    {
      "cell_type": "code",
      "metadata": {
        "colab": {
          "base_uri": "https://localhost:8080/",
          "height": 386
        },
        "id": "rA-nsCYTHi08",
        "outputId": "b850a081-90ef-4690-e653-c5a188b1cbe9"
      },
      "source": [
        "sns.displot(x,  kde='True',bins=50)\n",
        "plt.ylabel('Density')"
      ],
      "execution_count": null,
      "outputs": [
        {
          "output_type": "execute_result",
          "data": {
            "text/plain": [
              "Text(3.549999999999997, 0.5, 'Density')"
            ]
          },
          "metadata": {
            "tags": []
          },
          "execution_count": 51
        },
        {
          "output_type": "display_data",
          "data": {
            "image/png": "[encoded data removed]",
            "text/plain": [
              "<Figure size 360x360 with 1 Axes>"
            ]
          },
          "metadata": {
            "tags": [],
            "needs_background": "light"
          }
        }
      ]
    },
    {
      "cell_type": "code",
      "metadata": {
        "colab": {
          "base_uri": "https://localhost:8080/",
          "height": 386
        },
        "id": "tG9Tu-aQJ0yd",
        "outputId": "768053bf-6e45-4459-e7c3-392c558ff0d3"
      },
      "source": [
        "sns.displot(x,  kde='True',binwidth=15)\n",
        "plt.ylabel('Density')"
      ],
      "execution_count": null,
      "outputs": [
        {
          "output_type": "execute_result",
          "data": {
            "text/plain": [
              "Text(-2.575000000000003, 0.5, 'Density')"
            ]
          },
          "metadata": {
            "tags": []
          },
          "execution_count": 56
        },
        {
          "output_type": "display_data",
          "data": {
            "image/png": "[encoded data removed]",
            "text/plain": [
              "<Figure size 360x360 with 1 Axes>"
            ]
          },
          "metadata": {
            "tags": [],
            "needs_background": "light"
          }
        }
      ]
    },
    {
      "cell_type": "markdown",
      "metadata": {
        "id": "t_c3MjnVHuuH"
      },
      "source": [
        "Inference:\n",
        "\n",
        "bins specify the number of bars. If bins=5, then there are five bars. If bins=10, count of bar is 10 and so on.\n",
        "\n",
        "binwidth is used to set the size of the bin/bar."
      ]
    },
    {
      "cell_type": "code",
      "metadata": {
        "colab": {
          "base_uri": "https://localhost:8080/",
          "height": 318
        },
        "id": "EZ7HqX7dKlxw",
        "outputId": "e0f65de3-9bd9-4b9e-9b72-2226b6155645"
      },
      "source": [
        "#Plotting mean and median\n",
        "plt.axvline(x.mean(), color='b', linestyle='dashed', linewidth=1)\n",
        "plt.axvline(np.median(x), color='r', linestyle='dashed', linewidth=2)\n",
        "sns.distplot(x, kde=True, bins=30, hist=False)\n",
        "plt.ylabel('Density')\n",
        "plt.show()"
      ],
      "execution_count": null,
      "outputs": [
        {
          "output_type": "stream",
          "text": [
            "/usr/local/lib/python3.7/dist-packages/seaborn/distributions.py:2557: FutureWarning: `distplot` is a deprecated function and will be removed in a future version. Please adapt your code to use either `displot` (a figure-level function with similar flexibility) or `kdeplot` (an axes-level function for kernel density plots).\n",
            "  warnings.warn(msg, FutureWarning)\n"
          ],
          "name": "stderr"
        },
        {
          "output_type": "display_data",
          "data": {
            "image/png": "[encoded data removed]",
            "text/plain": [
              "<Figure size 432x288 with 1 Axes>"
            ]
          },
          "metadata": {
            "tags": [],
            "needs_background": "light"
          }
        }
      ]
    },
    {
      "cell_type": "code",
      "metadata": {
        "colab": {
          "base_uri": "https://localhost:8080/"
        },
        "id": "LdRjjN61K348",
        "outputId": "6b707d14-2132-499c-ebe3-a2954b85a538"
      },
      "source": [
        "print(\"Mean: \", np.mean(x))\n",
        "print(\"Median: \", np.median(x))"
      ],
      "execution_count": null,
      "outputs": [
        {
          "output_type": "stream",
          "text": [
            "Mean:  50.06041421740114\n",
            "Median:  50.06891108332715\n"
          ],
          "name": "stdout"
        }
      ]
    },
    {
      "cell_type": "markdown",
      "metadata": {
        "id": "FZmYpuT-LtOC"
      },
      "source": [
        "## Quartiles"
      ]
    },
    {
      "cell_type": "code",
      "metadata": {
        "colab": {
          "base_uri": "https://localhost:8080/"
        },
        "id": "ot0qa0TvLxod",
        "outputId": "bddedb52-c1be-447a-f7a3-5eb085c8bf7c"
      },
      "source": [
        "my_list = [1, 2, 2, 2, 4, 5, 6, 6, 6, 9, 10, 10, 10, 11, 14, 14, 15, 18, 19, 20]\n",
        "print(my_list)"
      ],
      "execution_count": null,
      "outputs": [
        {
          "output_type": "stream",
          "text": [
            "[1, 2, 2, 2, 4, 5, 6, 6, 6, 9, 10, 10, 10, 11, 14, 14, 15, 18, 19, 20]\n"
          ],
          "name": "stdout"
        }
      ]
    },
    {
      "cell_type": "code",
      "metadata": {
        "colab": {
          "base_uri": "https://localhost:8080/"
        },
        "id": "DCWra8-pL0LD",
        "outputId": "bed31879-93a4-49e3-bf93-c768b5f91644"
      },
      "source": [
        "np.percentile(my_list, 10)"
      ],
      "execution_count": null,
      "outputs": [
        {
          "output_type": "execute_result",
          "data": {
            "text/plain": [
              "2.0"
            ]
          },
          "metadata": {
            "tags": []
          },
          "execution_count": 32
        }
      ]
    },
    {
      "cell_type": "code",
      "metadata": {
        "id": "X8Fkpyv9L6c2",
        "colab": {
          "base_uri": "https://localhost:8080/"
        },
        "outputId": "3d85f656-b896-4ebd-ca33-8d6184cb5521"
      },
      "source": [
        "np.percentile(my_list, 65)"
      ],
      "execution_count": null,
      "outputs": [
        {
          "output_type": "execute_result",
          "data": {
            "text/plain": [
              "10.35"
            ]
          },
          "metadata": {
            "tags": []
          },
          "execution_count": 33
        }
      ]
    },
    {
      "cell_type": "code",
      "metadata": {
        "id": "kUh3xgvLL9en",
        "colab": {
          "base_uri": "https://localhost:8080/"
        },
        "outputId": "7c150639-51e4-4006-83a5-7d2899f7563c"
      },
      "source": [
        "np.percentile(my_list, 99)"
      ],
      "execution_count": null,
      "outputs": [
        {
          "output_type": "execute_result",
          "data": {
            "text/plain": [
              "19.81"
            ]
          },
          "metadata": {
            "tags": []
          },
          "execution_count": 34
        }
      ]
    },
    {
      "cell_type": "code",
      "metadata": {
        "id": "VkjgNonGL_Wf",
        "colab": {
          "base_uri": "https://localhost:8080/"
        },
        "outputId": "2f0f4e50-a50b-42a7-e63d-5af34b968895"
      },
      "source": [
        "Q1 = np.percentile(my_list,25)\n",
        "Q2 = np.percentile(my_list,50)\n",
        "Q3 = np.percentile(my_list,75)\n",
        "print(\"Q1: \",Q1)\n",
        "print(\"Q2: \",Q2)\n",
        "print(\"Median:\",np.median(my_list))\n",
        "print(\"Q3: \",Q3)\n"
      ],
      "execution_count": null,
      "outputs": [
        {
          "output_type": "stream",
          "text": [
            "Q1:  4.75\n",
            "Q2:  9.5\n",
            "Median: 9.5\n",
            "Q3:  14.0\n"
          ],
          "name": "stdout"
        }
      ]
    },
    {
      "cell_type": "code",
      "metadata": {
        "id": "bDyl8YvbMYkC"
      },
      "source": [
        "IQR=Q3-Q1\n",
        "print(\"Inter Quartile Range: \",IQR)"
      ],
      "execution_count": null,
      "outputs": []
    },
    {
      "cell_type": "markdown",
      "metadata": {
        "id": "Tmq_twAQJ_it"
      },
      "source": [
        "Quartile is how are we dividing the data points.\n",
        "\n",
        "25% of data lies below Q1, \n",
        "50% of data lies below Q2,\n",
        "75% of data lies below Q3.\n",
        "\n",
        "Q1 is Lower quartile/25th percentile, Q2 is Median/50th percentile and Q3 is Upper quartile/75th percentile."
      ]
    },
    {
      "cell_type": "markdown",
      "metadata": {
        "id": "G9Uh87t9LPlO"
      },
      "source": [
        "## Box Plots"
      ]
    },
    {
      "cell_type": "code",
      "metadata": {
        "colab": {
          "base_uri": "https://localhost:8080/",
          "height": 282
        },
        "id": "OiGd8_RkK_je",
        "outputId": "556ae27d-fa61-4464-b3db-1d1b011e6ac4"
      },
      "source": [
        "my_list = [1, 2, 2, 2, 4, 5, 6, 6, 6, 9, 10, 10, 10, 11, 14, 14, 15, 18,19, 20]\n",
        "\n",
        "# Convert the list to dataframe and add column name\n",
        "df = pd.DataFrame(my_list, columns=['Sample data'])\n",
        "\n",
        "# Plot using seaborm\n",
        "sns.boxplot(data=df)\n",
        "\n",
        "# Add ylabel\n",
        "plt.ylabel('Data points')"
      ],
      "execution_count": null,
      "outputs": [
        {
          "output_type": "execute_result",
          "data": {
            "text/plain": [
              "Text(0, 0.5, 'Data points')"
            ]
          },
          "metadata": {
            "tags": []
          },
          "execution_count": 37
        },
        {
          "output_type": "display_data",
          "data": {
            "image/png": "[encoded data removed]",
            "text/plain": [
              "<Figure size 432x288 with 1 Axes>"
            ]
          },
          "metadata": {
            "tags": [],
            "needs_background": "light"
          }
        }
      ]
    },
    {
      "cell_type": "code",
      "metadata": {
        "colab": {
          "base_uri": "https://localhost:8080/"
        },
        "id": "wZdy3GAWLj4S",
        "outputId": "86dd9c02-c00a-415f-eb90-56bce0013030"
      },
      "source": [
        "np.percentile(my_list, [25, 50, 75])"
      ],
      "execution_count": null,
      "outputs": [
        {
          "output_type": "execute_result",
          "data": {
            "text/plain": [
              "array([ 4.75,  9.5 , 14.  ])"
            ]
          },
          "metadata": {
            "tags": []
          },
          "execution_count": 48
        }
      ]
    },
    {
      "cell_type": "markdown",
      "metadata": {
        "id": "BWgik3RBO9-2"
      },
      "source": [
        "### **Using IQR to identify outliers**"
      ]
    },
    {
      "cell_type": "code",
      "metadata": {
        "id": "kYsLau6RPA6E"
      },
      "source": [
        "dummy_age = [20, 21, 24, 24, 28, 26, 19, 22, 26, 24, 21,\n",
        "            19, 22, 28, 29, 6, 100, 25, 25, 28, 31]\n",
        "dummy_height = [150, 151, 155, 153, 280, 160, 158, 157, 158, 145, 150,\n",
        "               155, 155, 151, 152, 153, 160, 152, 157, 157, 160, 153]\n",
        "dummy_df = pd.DataFrame(list(zip(dummy_age, dummy_height)),\n",
        "                        columns =['Age', 'Height(cm)'])"
      ],
      "execution_count": null,
      "outputs": []
    },
    {
      "cell_type": "code",
      "metadata": {
        "colab": {
          "base_uri": "https://localhost:8080/",
          "height": 696
        },
        "id": "u873aReuPHmL",
        "outputId": "ebc639e6-cbf6-4312-c92c-ea4457170078"
      },
      "source": [
        "\n",
        "dummy_df"
      ],
      "execution_count": null,
      "outputs": [
        {
          "output_type": "execute_result",
          "data": {
            "text/html": [
              "<div>\n",
              "<style scoped>\n",
              "    .dataframe tbody tr th:only-of-type {\n",
              "        vertical-align: middle;\n",
              "    }\n",
              "\n",
              "    .dataframe tbody tr th {\n",
              "        vertical-align: top;\n",
              "    }\n",
              "\n",
              "    .dataframe thead th {\n",
              "        text-align: right;\n",
              "    }\n",
              "</style>\n",
              "<table border=\"1\" class=\"dataframe\">\n",
              "  <thead>\n",
              "    <tr style=\"text-align: right;\">\n",
              "      <th></th>\n",
              "      <th>Age</th>\n",
              "      <th>Height(cm)</th>\n",
              "    </tr>\n",
              "  </thead>\n",
              "  <tbody>\n",
              "    <tr>\n",
              "      <th>0</th>\n",
              "      <td>20</td>\n",
              "      <td>150</td>\n",
              "    </tr>\n",
              "    <tr>\n",
              "      <th>1</th>\n",
              "      <td>21</td>\n",
              "      <td>151</td>\n",
              "    </tr>\n",
              "    <tr>\n",
              "      <th>2</th>\n",
              "      <td>24</td>\n",
              "      <td>155</td>\n",
              "    </tr>\n",
              "    <tr>\n",
              "      <th>3</th>\n",
              "      <td>24</td>\n",
              "      <td>153</td>\n",
              "    </tr>\n",
              "    <tr>\n",
              "      <th>4</th>\n",
              "      <td>28</td>\n",
              "      <td>280</td>\n",
              "    </tr>\n",
              "    <tr>\n",
              "      <th>5</th>\n",
              "      <td>26</td>\n",
              "      <td>160</td>\n",
              "    </tr>\n",
              "    <tr>\n",
              "      <th>6</th>\n",
              "      <td>19</td>\n",
              "      <td>158</td>\n",
              "    </tr>\n",
              "    <tr>\n",
              "      <th>7</th>\n",
              "      <td>22</td>\n",
              "      <td>157</td>\n",
              "    </tr>\n",
              "    <tr>\n",
              "      <th>8</th>\n",
              "      <td>26</td>\n",
              "      <td>158</td>\n",
              "    </tr>\n",
              "    <tr>\n",
              "      <th>9</th>\n",
              "      <td>24</td>\n",
              "      <td>145</td>\n",
              "    </tr>\n",
              "    <tr>\n",
              "      <th>10</th>\n",
              "      <td>21</td>\n",
              "      <td>150</td>\n",
              "    </tr>\n",
              "    <tr>\n",
              "      <th>11</th>\n",
              "      <td>19</td>\n",
              "      <td>155</td>\n",
              "    </tr>\n",
              "    <tr>\n",
              "      <th>12</th>\n",
              "      <td>22</td>\n",
              "      <td>155</td>\n",
              "    </tr>\n",
              "    <tr>\n",
              "      <th>13</th>\n",
              "      <td>28</td>\n",
              "      <td>151</td>\n",
              "    </tr>\n",
              "    <tr>\n",
              "      <th>14</th>\n",
              "      <td>29</td>\n",
              "      <td>152</td>\n",
              "    </tr>\n",
              "    <tr>\n",
              "      <th>15</th>\n",
              "      <td>6</td>\n",
              "      <td>153</td>\n",
              "    </tr>\n",
              "    <tr>\n",
              "      <th>16</th>\n",
              "      <td>100</td>\n",
              "      <td>160</td>\n",
              "    </tr>\n",
              "    <tr>\n",
              "      <th>17</th>\n",
              "      <td>25</td>\n",
              "      <td>152</td>\n",
              "    </tr>\n",
              "    <tr>\n",
              "      <th>18</th>\n",
              "      <td>25</td>\n",
              "      <td>157</td>\n",
              "    </tr>\n",
              "    <tr>\n",
              "      <th>19</th>\n",
              "      <td>28</td>\n",
              "      <td>157</td>\n",
              "    </tr>\n",
              "    <tr>\n",
              "      <th>20</th>\n",
              "      <td>31</td>\n",
              "      <td>160</td>\n",
              "    </tr>\n",
              "  </tbody>\n",
              "</table>\n",
              "</div>"
            ],
            "text/plain": [
              "    Age  Height(cm)\n",
              "0    20         150\n",
              "1    21         151\n",
              "2    24         155\n",
              "3    24         153\n",
              "4    28         280\n",
              "5    26         160\n",
              "6    19         158\n",
              "7    22         157\n",
              "8    26         158\n",
              "9    24         145\n",
              "10   21         150\n",
              "11   19         155\n",
              "12   22         155\n",
              "13   28         151\n",
              "14   29         152\n",
              "15    6         153\n",
              "16  100         160\n",
              "17   25         152\n",
              "18   25         157\n",
              "19   28         157\n",
              "20   31         160"
            ]
          },
          "metadata": {
            "tags": []
          },
          "execution_count": 39
        }
      ]
    },
    {
      "cell_type": "code",
      "metadata": {
        "id": "DiwQyWjtPIJH"
      },
      "source": [
        "def get_lower_upper_bound(my_data):\n",
        "    # Get first and third quartile\n",
        "    q1 = np.percentile(my_data, 25)\n",
        "    q3 = np.percentile(my_data, 75)\n",
        "    \n",
        "    # Calculate Interquartile range\n",
        "    iqr = q3 - q1\n",
        "    \n",
        "    # Compute lower and upper bound\n",
        "    lower_bound = q1 - (iqr * 1.5)\n",
        "    upper_bound = q3 + (iqr * 1.5)\n",
        "    \n",
        "    return lower_bound, upper_bound"
      ],
      "execution_count": null,
      "outputs": []
    },
    {
      "cell_type": "code",
      "metadata": {
        "id": "_83UbHB-POQm"
      },
      "source": [
        "def get_outliers_iqr(my_data):\n",
        "    lower_bound, upper_bound = get_lower_upper_bound(my_data)\n",
        "    # Filter data less than lower bound and more than upper bound\n",
        "    return my_data[np.where((my_data > upper_bound) |\n",
        "                            (my_data < lower_bound))]"
      ],
      "execution_count": null,
      "outputs": []
    },
    {
      "cell_type": "code",
      "metadata": {
        "colab": {
          "base_uri": "https://localhost:8080/"
        },
        "id": "BbifhK_nPQiS",
        "outputId": "aedc7395-6267-434d-94c7-7bb206b5d760"
      },
      "source": [
        "\n",
        "get_outliers_iqr(dummy_df['Age'].values)"
      ],
      "execution_count": null,
      "outputs": [
        {
          "output_type": "execute_result",
          "data": {
            "text/plain": [
              "array([  6, 100])"
            ]
          },
          "metadata": {
            "tags": []
          },
          "execution_count": 42
        }
      ]
    },
    {
      "cell_type": "code",
      "metadata": {
        "colab": {
          "base_uri": "https://localhost:8080/"
        },
        "id": "S_MomuKUPSfy",
        "outputId": "818a3b6c-86c5-40c1-cb42-103b28b40ba3"
      },
      "source": [
        "get_outliers_iqr(dummy_df['Height(cm)'].values)"
      ],
      "execution_count": null,
      "outputs": [
        {
          "output_type": "execute_result",
          "data": {
            "text/plain": [
              "array([280])"
            ]
          },
          "metadata": {
            "tags": []
          },
          "execution_count": 43
        }
      ]
    },
    {
      "cell_type": "code",
      "metadata": {
        "colab": {
          "base_uri": "https://localhost:8080/",
          "height": 282
        },
        "id": "uu4sPmXGPUSz",
        "outputId": "91a97522-a83a-4487-814c-e0c2f94d2e9b"
      },
      "source": [
        "dummy_df.boxplot(column=['Age'])"
      ],
      "execution_count": null,
      "outputs": [
        {
          "output_type": "execute_result",
          "data": {
            "text/plain": [
              "<matplotlib.axes._subplots.AxesSubplot at 0x7f93d7441a90>"
            ]
          },
          "metadata": {
            "tags": []
          },
          "execution_count": 44
        },
        {
          "output_type": "display_data",
          "data": {
            "image/png": "[encoded data removed]",
            "text/plain": [
              "<Figure size 432x288 with 1 Axes>"
            ]
          },
          "metadata": {
            "tags": [],
            "needs_background": "light"
          }
        }
      ]
    },
    {
      "cell_type": "code",
      "metadata": {
        "colab": {
          "base_uri": "https://localhost:8080/",
          "height": 282
        },
        "id": "grtyVvCRPWS8",
        "outputId": "205abe8a-7aa5-4ba6-fcec-139072a8816e"
      },
      "source": [
        "dummy_df.boxplot(column=['Height(cm)'])"
      ],
      "execution_count": null,
      "outputs": [
        {
          "output_type": "execute_result",
          "data": {
            "text/plain": [
              "<matplotlib.axes._subplots.AxesSubplot at 0x7f93d9ec2ed0>"
            ]
          },
          "metadata": {
            "tags": []
          },
          "execution_count": 45
        },
        {
          "output_type": "display_data",
          "data": {
            "image/png": "[encoded data removed]",
            "text/plain": [
              "<Figure size 432x288 with 1 Axes>"
            ]
          },
          "metadata": {
            "tags": [],
            "needs_background": "light"
          }
        }
      ]
    },
    {
      "cell_type": "markdown",
      "metadata": {
        "id": "IIVK3IS0HnMi"
      },
      "source": [
        "### **Find the Outliers using Z score**\n",
        "\n",
        "[Click here](https://www.statisticshowto.com/probability-and-statistics/z-score/) to read about What is Z score??\n",
        "\n",
        "[Click here ](https://medium.com/clarusway/z-score-and-how-its-used-to-determine-an-outlier-642110f3b482)to read about outlier detection using Z score"
      ]
    },
    {
      "cell_type": "markdown",
      "metadata": {
        "id": "q0vacjZyPVJQ"
      },
      "source": [
        "Z-score helps to find whether a value is greater or smaller than mean and how far away it is distributed from the mean. Thus, it is used to find outliers which arises because of extreme values in given dataset."
      ]
    },
    {
      "cell_type": "code",
      "metadata": {
        "id": "p1qegfHYPaUL",
        "colab": {
          "base_uri": "https://localhost:8080/",
          "height": 203
        },
        "outputId": "a30a1ac6-5d5e-4231-9371-bb49303881b2"
      },
      "source": [
        "for col in dummy_df.columns:\n",
        "    col_zscore = col + \"_zscore\"\n",
        "    dummy_df[col_zscore] = (dummy_df[col] - dummy_df[col].mean())/dummy_df[col].std(ddof=0)\n",
        "dummy_df.head()"
      ],
      "execution_count": null,
      "outputs": [
        {
          "output_type": "execute_result",
          "data": {
            "text/html": [
              "<div>\n",
              "<style scoped>\n",
              "    .dataframe tbody tr th:only-of-type {\n",
              "        vertical-align: middle;\n",
              "    }\n",
              "\n",
              "    .dataframe tbody tr th {\n",
              "        vertical-align: top;\n",
              "    }\n",
              "\n",
              "    .dataframe thead th {\n",
              "        text-align: right;\n",
              "    }\n",
              "</style>\n",
              "<table border=\"1\" class=\"dataframe\">\n",
              "  <thead>\n",
              "    <tr style=\"text-align: right;\">\n",
              "      <th></th>\n",
              "      <th>Age</th>\n",
              "      <th>Height(cm)</th>\n",
              "      <th>Age_zscore</th>\n",
              "      <th>Height(cm)_zscore</th>\n",
              "      <th>Age_zscore_zscore</th>\n",
              "      <th>Height(cm)_zscore_zscore</th>\n",
              "    </tr>\n",
              "  </thead>\n",
              "  <tbody>\n",
              "    <tr>\n",
              "      <th>0</th>\n",
              "      <td>20</td>\n",
              "      <td>150</td>\n",
              "      <td>-0.412533</td>\n",
              "      <td>-0.386115</td>\n",
              "      <td>-0.412533</td>\n",
              "      <td>-0.386115</td>\n",
              "    </tr>\n",
              "    <tr>\n",
              "      <th>1</th>\n",
              "      <td>21</td>\n",
              "      <td>151</td>\n",
              "      <td>-0.353998</td>\n",
              "      <td>-0.349091</td>\n",
              "      <td>-0.353998</td>\n",
              "      <td>-0.349091</td>\n",
              "    </tr>\n",
              "    <tr>\n",
              "      <th>2</th>\n",
              "      <td>24</td>\n",
              "      <td>155</td>\n",
              "      <td>-0.178393</td>\n",
              "      <td>-0.200992</td>\n",
              "      <td>-0.178393</td>\n",
              "      <td>-0.200992</td>\n",
              "    </tr>\n",
              "    <tr>\n",
              "      <th>3</th>\n",
              "      <td>24</td>\n",
              "      <td>153</td>\n",
              "      <td>-0.178393</td>\n",
              "      <td>-0.275041</td>\n",
              "      <td>-0.178393</td>\n",
              "      <td>-0.275041</td>\n",
              "    </tr>\n",
              "    <tr>\n",
              "      <th>4</th>\n",
              "      <td>28</td>\n",
              "      <td>280</td>\n",
              "      <td>0.055748</td>\n",
              "      <td>4.427105</td>\n",
              "      <td>0.055748</td>\n",
              "      <td>4.427105</td>\n",
              "    </tr>\n",
              "  </tbody>\n",
              "</table>\n",
              "</div>"
            ],
            "text/plain": [
              "   Age  Height(cm)  ...  Age_zscore_zscore  Height(cm)_zscore_zscore\n",
              "0   20         150  ...          -0.412533                 -0.386115\n",
              "1   21         151  ...          -0.353998                 -0.349091\n",
              "2   24         155  ...          -0.178393                 -0.200992\n",
              "3   24         153  ...          -0.178393                 -0.275041\n",
              "4   28         280  ...           0.055748                  4.427105\n",
              "\n",
              "[5 rows x 6 columns]"
            ]
          },
          "metadata": {
            "tags": []
          },
          "execution_count": 60
        }
      ]
    },
    {
      "cell_type": "code",
      "metadata": {
        "id": "aJNwYhZGMeiK"
      },
      "source": [
        "dummy_df[\"outlier\"] = (abs(dummy_df[\"Age_zscore\"])>1).astype(int)"
      ],
      "execution_count": null,
      "outputs": []
    },
    {
      "cell_type": "code",
      "metadata": {
        "colab": {
          "base_uri": "https://localhost:8080/",
          "height": 110
        },
        "id": "EURu6ZkPMh_u",
        "outputId": "7e232158-8e40-408d-cb66-b3577cd45cf8"
      },
      "source": [
        "dummy_df.loc[dummy_df.outlier == 1]"
      ],
      "execution_count": null,
      "outputs": [
        {
          "output_type": "execute_result",
          "data": {
            "text/html": [
              "<div>\n",
              "<style scoped>\n",
              "    .dataframe tbody tr th:only-of-type {\n",
              "        vertical-align: middle;\n",
              "    }\n",
              "\n",
              "    .dataframe tbody tr th {\n",
              "        vertical-align: top;\n",
              "    }\n",
              "\n",
              "    .dataframe thead th {\n",
              "        text-align: right;\n",
              "    }\n",
              "</style>\n",
              "<table border=\"1\" class=\"dataframe\">\n",
              "  <thead>\n",
              "    <tr style=\"text-align: right;\">\n",
              "      <th></th>\n",
              "      <th>Age</th>\n",
              "      <th>Height(cm)</th>\n",
              "      <th>Age_zscore</th>\n",
              "      <th>Height(cm)_zscore</th>\n",
              "      <th>Age_zscore_zscore</th>\n",
              "      <th>Height(cm)_zscore_zscore</th>\n",
              "      <th>outlier</th>\n",
              "    </tr>\n",
              "  </thead>\n",
              "  <tbody>\n",
              "    <tr>\n",
              "      <th>15</th>\n",
              "      <td>6</td>\n",
              "      <td>153</td>\n",
              "      <td>-1.232025</td>\n",
              "      <td>-0.275041</td>\n",
              "      <td>-1.232025</td>\n",
              "      <td>-0.275041</td>\n",
              "      <td>1</td>\n",
              "    </tr>\n",
              "    <tr>\n",
              "      <th>16</th>\n",
              "      <td>100</td>\n",
              "      <td>160</td>\n",
              "      <td>4.270276</td>\n",
              "      <td>-0.015868</td>\n",
              "      <td>4.270276</td>\n",
              "      <td>-0.015868</td>\n",
              "      <td>1</td>\n",
              "    </tr>\n",
              "  </tbody>\n",
              "</table>\n",
              "</div>"
            ],
            "text/plain": [
              "    Age  Height(cm)  ...  Height(cm)_zscore_zscore  outlier\n",
              "15    6         153  ...                 -0.275041        1\n",
              "16  100         160  ...                 -0.015868        1\n",
              "\n",
              "[2 rows x 7 columns]"
            ]
          },
          "metadata": {
            "tags": []
          },
          "execution_count": 68
        }
      ]
    }
  ]
}